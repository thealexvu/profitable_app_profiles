{
 "cells": [
  {
   "cell_type": "markdown",
   "id": "c60c7b9f-70f1-40dc-b412-5f983f545515",
   "metadata": {},
   "source": [
    "# Profitable App Profiles for the App Store and Google Play Markets\n",
    "\n",
    "For this project, we are data analysts for a company that builds mobile applications for both iOS and Android, with these apps being available on Google Play and the App Store, respectively.\n",
    "\n",
    "All of the apps that our company builds are free to download and install. The main source of revenue from these apps are in-app ads.\n",
    "\n",
    "This means that the revenue for any one of the apps is directly correlated to the number of users for that app - the more users who see and engage with the ads, the more revenue each app brings in.\n",
    "\n",
    "**The goal for this project is to analyze data to help our development team understand what type of apps are likely to attract more users.**"
   ]
  },
  {
   "cell_type": "markdown",
   "id": "bf2baa64-0bbb-4cbb-ac64-f234577329c4",
   "metadata": {},
   "source": [
    "***\n",
    "The first step in this project will be to collect and analyze data about all mobile apps available on Google Play and the App Store.\n",
    "\n",
    "Since there are over 4 million mobile apps, we will focus on a smaller sample size of data for the purposes of this project.\n",
    "\n",
    "There are two datasets we will be using:\n",
    "- [A dataset for approximately 10k Android apps from Google Play, collected in August 2018](https://dq-content.s3.amazonaws.com/350/googleplaystore.csv). Saved as `googleplay.csv` within the project folder.\n",
    "- [A dataset for approximately 7k iOS apps from the App Store, collected in July 2017](https://dq-content.s3.amazonaws.com/350/AppleStore.csv). Saved as `appstore.csv` within the project folder."
   ]
  },
  {
   "cell_type": "markdown",
   "id": "a4466a2b-7757-4812-b21d-4f77d5389e7c",
   "metadata": {},
   "source": [
    "***\n",
    "## Opening and Exploring Data\n",
    "\n",
    "We will extract the datasets from the CSV files into a list of lists."
   ]
  },
  {
   "cell_type": "code",
   "execution_count": 270,
   "id": "b37b8f13-98de-42e4-828a-b968cbb563ba",
   "metadata": {},
   "outputs": [],
   "source": [
    "from csv import reader\n",
    "\n",
    "def csv_to_list(file):\n",
    "    opened_file = open(file)\n",
    "    read_file = reader(opened_file)\n",
    "    return list(read_file)\n",
    "\n",
    "app_store = csv_to_list('appstore.csv')\n",
    "google_play = csv_to_list('googleplay.csv')"
   ]
  },
  {
   "cell_type": "markdown",
   "id": "27c96e42-0153-4ea2-ac7b-d47feee7320c",
   "metadata": {},
   "source": [
    "We will define a function to explore these two datasets."
   ]
  },
  {
   "cell_type": "code",
   "execution_count": 271,
   "id": "258a43f6-1520-4faa-a1ce-5e2188177b89",
   "metadata": {},
   "outputs": [],
   "source": [
    "def explore_dataset(dataset, start_index, end_index, print_rows_and_columns = False):\n",
    "    dataset_sliced = dataset[start_index: end_index]\n",
    "    for row in dataset_sliced:\n",
    "        print(row) \n",
    "        print('\\n') # Add an empty line after each row\n",
    "        \n",
    "    if print_rows_and_columns:\n",
    "        print(\"Number of rows: \", len(dataset))\n",
    "        print(\"Number of columns: \", len(dataset[0]))"
   ]
  },
  {
   "cell_type": "code",
   "execution_count": 272,
   "id": "beb0f52f-a954-480f-8c3c-866f24ced950",
   "metadata": {},
   "outputs": [
    {
     "name": "stdout",
     "output_type": "stream",
     "text": [
      "['id', 'track_name', 'size_bytes', 'currency', 'price', 'rating_count_tot', 'rating_count_ver', 'user_rating', 'user_rating_ver', 'ver', 'cont_rating', 'prime_genre', 'sup_devices.num', 'ipadSc_urls.num', 'lang.num', 'vpp_lic']\n",
      "\n",
      "\n",
      "['284882215', 'Facebook', '389879808', 'USD', '0.0', '2974676', '212', '3.5', '3.5', '95.0', '4+', 'Social Networking', '37', '1', '29', '1']\n",
      "\n",
      "\n",
      "['389801252', 'Instagram', '113954816', 'USD', '0.0', '2161558', '1289', '4.5', '4.0', '10.23', '12+', 'Photo & Video', '37', '0', '29', '1']\n",
      "\n",
      "\n",
      "['529479190', 'Clash of Clans', '116476928', 'USD', '0.0', '2130805', '579', '4.5', '4.5', '9.24.12', '9+', 'Games', '38', '5', '18', '1']\n",
      "\n",
      "\n",
      "['420009108', 'Temple Run', '65921024', 'USD', '0.0', '1724546', '3842', '4.5', '4.0', '1.6.2', '9+', 'Games', '40', '5', '1', '1']\n",
      "\n",
      "\n",
      "Number of rows:  7198\n",
      "Number of columns:  16\n"
     ]
    }
   ],
   "source": [
    "explore_dataset(app_store, 0, 5, print_rows_and_columns = True)"
   ]
  },
  {
   "cell_type": "code",
   "execution_count": 273,
   "id": "8815f124-3d67-4841-b92a-79f5a8596c10",
   "metadata": {},
   "outputs": [
    {
     "name": "stdout",
     "output_type": "stream",
     "text": [
      "['App', 'Category', 'Rating', 'Reviews', 'Size', 'Installs', 'Type', 'Price', 'Content Rating', 'Genres', 'Last Updated', 'Current Ver', 'Android Ver']\n",
      "\n",
      "\n",
      "['Photo Editor & Candy Camera & Grid & ScrapBook', 'ART_AND_DESIGN', '4.1', '159', '19M', '10,000+', 'Free', '0', 'Everyone', 'Art & Design', 'January 7, 2018', '1.0.0', '4.0.3 and up']\n",
      "\n",
      "\n",
      "['Coloring book moana', 'ART_AND_DESIGN', '3.9', '967', '14M', '500,000+', 'Free', '0', 'Everyone', 'Art & Design;Pretend Play', 'January 15, 2018', '2.0.0', '4.0.3 and up']\n",
      "\n",
      "\n",
      "['U Launcher Lite – FREE Live Cool Themes, Hide Apps', 'ART_AND_DESIGN', '4.7', '87510', '8.7M', '5,000,000+', 'Free', '0', 'Everyone', 'Art & Design', 'August 1, 2018', '1.2.4', '4.0.3 and up']\n",
      "\n",
      "\n",
      "['Sketch - Draw & Paint', 'ART_AND_DESIGN', '4.5', '215644', '25M', '50,000,000+', 'Free', '0', 'Teen', 'Art & Design', 'June 8, 2018', 'Varies with device', '4.2 and up']\n",
      "\n",
      "\n",
      "Number of rows:  10842\n",
      "Number of columns:  13\n"
     ]
    }
   ],
   "source": [
    "explore_dataset(google_play, 0, 5, print_rows_and_columns = True)"
   ]
  },
  {
   "cell_type": "markdown",
   "id": "f2d9bdce-cfa9-4622-8d98-e0d6a9a6fdbc",
   "metadata": {},
   "source": [
    "***\n",
    "## Data Cleaning\n",
    "### Identify Key Data Points\n",
    "\n",
    "Next, we will view only the column names of each dataset in order to identify which data points will be most helpful for our analysis.\n",
    "\n",
    "The detailed descriptions of the columns can be found from the original page of the datasets, for [Google Play](https://www.kaggle.com/datasets/lava18/google-play-store-apps) and the [App Store](https://www.kaggle.com/datasets/ramamet4/app-store-apple-data-set-10k-apps)."
   ]
  },
  {
   "cell_type": "code",
   "execution_count": 274,
   "id": "02ad7663-2c7c-4d22-9247-ebca57f280c0",
   "metadata": {},
   "outputs": [
    {
     "name": "stdout",
     "output_type": "stream",
     "text": [
      "['App', 'Category', 'Rating', 'Reviews', 'Size', 'Installs', 'Type', 'Price', 'Content Rating', 'Genres', 'Last Updated', 'Current Ver', 'Android Ver']\n"
     ]
    }
   ],
   "source": [
    "print(google_play[0])"
   ]
  },
  {
   "cell_type": "markdown",
   "id": "91ef9d1d-dc1b-424e-a530-568bbbb1cbf3",
   "metadata": {},
   "source": [
    "From the list of available metrics from Google Play, it appears the most important metrics to use for our analysis should be:\n",
    "- App\n",
    "- Category\n",
    "- Rating\n",
    "- Reviews\n",
    "- Installs\n",
    "- Type\n",
    "- Price\n",
    "- Content Rating\n",
    "- Genres"
   ]
  },
  {
   "cell_type": "code",
   "execution_count": 275,
   "id": "529861c2-9473-439b-bf19-86a76cb799e4",
   "metadata": {},
   "outputs": [
    {
     "name": "stdout",
     "output_type": "stream",
     "text": [
      "['id', 'track_name', 'size_bytes', 'currency', 'price', 'rating_count_tot', 'rating_count_ver', 'user_rating', 'user_rating_ver', 'ver', 'cont_rating', 'prime_genre', 'sup_devices.num', 'ipadSc_urls.num', 'lang.num', 'vpp_lic']\n"
     ]
    }
   ],
   "source": [
    "print(app_store[0])"
   ]
  },
  {
   "cell_type": "markdown",
   "id": "d0645bdf-4c82-4ed7-9aa2-2fee21d4d216",
   "metadata": {},
   "source": [
    "From the list of available metrics from the App Store, it appears the most important metrics to use for our analysis should be:\n",
    "- track_name\n",
    "- currency\n",
    "- price\n",
    "- rating_count_tot\n",
    "- user_rating\n",
    "- cont_rating\n",
    "- prime_genre"
   ]
  },
  {
   "cell_type": "markdown",
   "id": "b64bda74-929e-4da5-890d-510c24355a2a",
   "metadata": {},
   "source": [
    "***\n",
    "### Deleting Wrong or Inaccurate Data\n",
    "*First, there is a [discussion topic](https://www.kaggle.com/lava18/google-play-store-apps/discussion/66015) about an error for the Google Play data. We will fix this by removing the entry in question from our local dataset*"
   ]
  },
  {
   "cell_type": "code",
   "execution_count": 276,
   "id": "3d7ed944-5c3c-4b6e-8877-932772c06757",
   "metadata": {},
   "outputs": [
    {
     "name": "stdout",
     "output_type": "stream",
     "text": [
      "['Xposed Wi-Fi-Pwd', 'PERSONALIZATION', '3.5', '1042', '404k', '100,000+', 'Free', '0', 'Everyone', 'Personalization', 'August 5, 2014', '3.0.0', '4.0.3 and up']\n",
      "\n",
      "\n",
      "['Life Made WI-Fi Touchscreen Photo Frame', '1.9', '19', '3.0M', '1,000+', 'Free', '0', 'Everyone', '', 'February 11, 2018', '1.0.19', '4.0 and up']\n",
      "\n",
      "\n"
     ]
    }
   ],
   "source": [
    "explore_dataset(google_play, start_index = 10472, end_index = 10474)"
   ]
  },
  {
   "cell_type": "markdown",
   "id": "fb79821d-1832-4868-a143-85f3f33d36ad",
   "metadata": {},
   "source": [
    "We can see that the data at `google_play[10473]` is missing the `Category` column. Since we can't readily assume what category it may have originally been in, we should just remove it from the dataset."
   ]
  },
  {
   "cell_type": "code",
   "execution_count": 277,
   "id": "877ba720-45ac-4033-b32d-6e41c1f17ad8",
   "metadata": {},
   "outputs": [
    {
     "name": "stdout",
     "output_type": "stream",
     "text": [
      "['Xposed Wi-Fi-Pwd', 'PERSONALIZATION', '3.5', '1042', '404k', '100,000+', 'Free', '0', 'Everyone', 'Personalization', 'August 5, 2014', '3.0.0', '4.0.3 and up']\n",
      "\n",
      "\n",
      "['osmino Wi-Fi: free WiFi', 'TOOLS', '4.2', '134203', '4.1M', '10,000,000+', 'Free', '0', 'Everyone', 'Tools', 'August 7, 2018', '6.06.14', '4.4 and up']\n",
      "\n",
      "\n"
     ]
    }
   ],
   "source": [
    "del google_play[10473]\n",
    "\n",
    "# Confirm that the data is no longer in the dataset\n",
    "explore_dataset(google_play, start_index = 10472, end_index = 10474)"
   ]
  },
  {
   "cell_type": "markdown",
   "id": "99a6becb-bf3f-4820-ad27-2e1f5b862156",
   "metadata": {},
   "source": [
    "***\n",
    "### Removing Duplicate Entries\n",
    "Reading through more discussion topics about the Google Play data, it appears there are duplicate entries for many apps. Since this would impact the analysis, we will remove identify and remove any duplicate entries."
   ]
  },
  {
   "cell_type": "code",
   "execution_count": 278,
   "id": "c70618f8-0ffa-4894-a68e-d4a150f36077",
   "metadata": {},
   "outputs": [],
   "source": [
    "def identify_duplicate_entries(dataset, index, remove_header = False):\n",
    "    unique_entries = []\n",
    "    duplicate_entries = []\n",
    "    \n",
    "    if remove_header:\n",
    "        dataset = dataset[1:]\n",
    "    \n",
    "    for row in dataset:\n",
    "        value = row[index]\n",
    "        if value in unique_entries:\n",
    "            duplicate_entries.append(value)\n",
    "        else:\n",
    "            unique_entries.append(value)\n",
    "            \n",
    "    print(\"Number of duplicate entries: \", len(duplicate_entries))\n",
    "    print(\"\\n\")\n",
    "    print(\"Examples of duplicate entries: \", duplicate_entries[:10])\n",
    "    \n",
    "    return duplicate_entries"
   ]
  },
  {
   "cell_type": "code",
   "execution_count": 279,
   "id": "528668ae-edde-4eaa-a274-ca452223d77f",
   "metadata": {},
   "outputs": [
    {
     "name": "stdout",
     "output_type": "stream",
     "text": [
      "Number of duplicate entries:  1181\n",
      "\n",
      "\n",
      "Examples of duplicate entries:  ['Quick PDF Scanner + OCR FREE', 'Box', 'Google My Business', 'ZOOM Cloud Meetings', 'join.me - Simple Meetings', 'Box', 'Zenefits', 'Google Ads', 'Google My Business', 'Slack']\n"
     ]
    }
   ],
   "source": [
    "google_play_duplicates = identify_duplicate_entries(google_play, 0, remove_header = True)"
   ]
  },
  {
   "cell_type": "code",
   "execution_count": 280,
   "id": "b144d3a3-b2b2-4bd2-9d69-7230cd3855ed",
   "metadata": {},
   "outputs": [
    {
     "name": "stdout",
     "output_type": "stream",
     "text": [
      "Number of duplicate entries:  2\n",
      "\n",
      "\n",
      "Examples of duplicate entries:  ['Mannequin Challenge', 'VR Roller Coaster']\n"
     ]
    }
   ],
   "source": [
    "app_store_duplicates = identify_duplicate_entries(app_store, 1, remove_header = True)"
   ]
  },
  {
   "cell_type": "markdown",
   "id": "97d49f06-1c7b-4420-a004-2532275a9e72",
   "metadata": {},
   "source": [
    "***\n",
    "While it would be easy to just remove any duplicate entries, it is important that we first identify why there are duplicate entries.\n",
    "\n",
    "We can work on the first duplicate entry for each dataset to try to identify any factors that we can use to ensure we are working with the best data for a particular entry."
   ]
  },
  {
   "cell_type": "code",
   "execution_count": 281,
   "id": "54c19362-80b4-4b1a-86ef-80ab13d1fef0",
   "metadata": {},
   "outputs": [],
   "source": [
    "def compare_duplicates(original_dataset, duplicate_dataset, index):\n",
    "    for data in original_dataset:\n",
    "        value = data[index]\n",
    "        if value == duplicate_dataset[0]:\n",
    "            print(data)"
   ]
  },
  {
   "cell_type": "code",
   "execution_count": 282,
   "id": "1f2cd12b-f8d5-4ed0-b7bf-88da26bada39",
   "metadata": {},
   "outputs": [
    {
     "name": "stdout",
     "output_type": "stream",
     "text": [
      "['Quick PDF Scanner + OCR FREE', 'BUSINESS', '4.2', '80805', 'Varies with device', '5,000,000+', 'Free', '0', 'Everyone', 'Business', 'February 26, 2018', 'Varies with device', '4.0.3 and up']\n",
      "['Quick PDF Scanner + OCR FREE', 'BUSINESS', '4.2', '80805', 'Varies with device', '5,000,000+', 'Free', '0', 'Everyone', 'Business', 'February 26, 2018', 'Varies with device', '4.0.3 and up']\n",
      "['Quick PDF Scanner + OCR FREE', 'BUSINESS', '4.2', '80804', 'Varies with device', '5,000,000+', 'Free', '0', 'Everyone', 'Business', 'February 26, 2018', 'Varies with device', '4.0.3 and up']\n"
     ]
    }
   ],
   "source": [
    "compare_duplicates(google_play, google_play_duplicates, 0)"
   ]
  },
  {
   "cell_type": "code",
   "execution_count": 283,
   "id": "7d210d48-dcbb-4ad6-af5c-96145e975588",
   "metadata": {},
   "outputs": [
    {
     "name": "stdout",
     "output_type": "stream",
     "text": [
      "['1173990889', 'Mannequin Challenge', '109705216', 'USD', '0.0', '668', '87', '3.0', '3.0', '1.4', '9+', 'Games', '37', '4', '1', '1']\n",
      "['1178454060', 'Mannequin Challenge', '59572224', 'USD', '0.0', '105', '58', '4.0', '4.5', '1.0.1', '4+', 'Games', '38', '5', '1', '1']\n"
     ]
    }
   ],
   "source": [
    "compare_duplicates(app_store, app_store_duplicates, 1)"
   ]
  },
  {
   "cell_type": "markdown",
   "id": "46789807-d1f7-4b75-861b-3b23fc3e266e",
   "metadata": {},
   "source": [
    "For each of these two datasets, it appears the metric that differentiates each duplicate entry is the number of ratings, seen in index `3` of the Google Play data, and in index `5` of the App Store data.\n",
    "\n",
    "With that knowledge, we know that we should only be keeping the entry with the *highest* number of ratings.\n",
    "\n",
    "In order to do this, we will need to create a new dataset that keeps only one entry for each app, with that entry being the one with the highest number of ratings."
   ]
  },
  {
   "cell_type": "code",
   "execution_count": 284,
   "id": "68177e7e-7ac2-4997-bbc8-c1053be488b5",
   "metadata": {},
   "outputs": [],
   "source": [
    "def create_dataset_unique_entries(dataset, index_name, index_unique, remove_header = True):\n",
    "    if remove_header:\n",
    "        dataset = dataset[1:]\n",
    "        \n",
    "    unique_dict = {}\n",
    "    for row in dataset:\n",
    "        name = row[index_name]\n",
    "        value = float(row[index_unique])\n",
    "        if name in unique_dict and unique_dict[name] < value:\n",
    "            unique_dict[name] = value\n",
    "        elif name not in unique_dict:\n",
    "            unique_dict[name] = value\n",
    "            \n",
    "    return unique_dict"
   ]
  },
  {
   "cell_type": "markdown",
   "id": "dd4e9515-69d0-4440-abcb-fc52a6be8e7d",
   "metadata": {},
   "source": [
    "We can confirm that this process was done succesfully because we can assume that the resulting dataset should have the amount of entries equal to `Original Entries` - `Duplicate Entries`.\n",
    "\n",
    "For the Google Play data, this should be:"
   ]
  },
  {
   "cell_type": "code",
   "execution_count": 285,
   "id": "3ccd7c3b-af67-42e2-8c99-008333d37e85",
   "metadata": {},
   "outputs": [
    {
     "name": "stdout",
     "output_type": "stream",
     "text": [
      "9659\n"
     ]
    }
   ],
   "source": [
    "print(len(google_play[1:]) - len(google_play_duplicates))"
   ]
  },
  {
   "cell_type": "code",
   "execution_count": 286,
   "id": "df23e7fb-73a6-4993-89f1-fc8093751340",
   "metadata": {},
   "outputs": [
    {
     "name": "stdout",
     "output_type": "stream",
     "text": [
      "9659\n"
     ]
    }
   ],
   "source": [
    "google_play_unique_dict = create_dataset_unique_entries(google_play, 0, 3)\n",
    "print(len(google_play_unique_dict))"
   ]
  },
  {
   "cell_type": "markdown",
   "id": "025c6001-72e9-4310-a849-f84e81a2c9ff",
   "metadata": {},
   "source": [
    "This checks out!"
   ]
  },
  {
   "cell_type": "markdown",
   "id": "aa04da1d-acf4-42eb-9892-b04cfc8d6e33",
   "metadata": {},
   "source": [
    "For the App Store data, this should be:"
   ]
  },
  {
   "cell_type": "code",
   "execution_count": 287,
   "id": "2ab6ebd6-b38e-4ee0-8fab-b76231bf4abc",
   "metadata": {},
   "outputs": [
    {
     "name": "stdout",
     "output_type": "stream",
     "text": [
      "7195\n"
     ]
    }
   ],
   "source": [
    "print(len(app_store[1:]) - len(app_store_duplicates))"
   ]
  },
  {
   "cell_type": "code",
   "execution_count": 288,
   "id": "343beeef-68d9-49f9-90fe-6aceccafb74e",
   "metadata": {},
   "outputs": [
    {
     "name": "stdout",
     "output_type": "stream",
     "text": [
      "7195\n"
     ]
    }
   ],
   "source": [
    "app_store_unique_dict = create_dataset_unique_entries(app_store, 1, 5)\n",
    "print(len(app_store_unique_dict))"
   ]
  },
  {
   "cell_type": "markdown",
   "id": "72e2d162-b72f-4f93-a227-362f3f88ab7e",
   "metadata": {},
   "source": [
    "This also checks out!"
   ]
  },
  {
   "cell_type": "markdown",
   "id": "abde2c12-710a-46fe-b25e-31e3affb13bd",
   "metadata": {},
   "source": [
    "The next step here is to use the unique dictionaries that can tell us the highest ratings for each app to create a new *cleaned* dataset as a list of lists."
   ]
  },
  {
   "cell_type": "code",
   "execution_count": 289,
   "id": "cd163051-3e6a-433e-a121-1352cd62f863",
   "metadata": {},
   "outputs": [],
   "source": [
    "def create_clean_dataset(dataset, clean_dict, index_name, index_unique, remove_headers = True):\n",
    "    cleaned_list = [] # Store new cleaned data\n",
    "    already_added = [] # List of data that has already been added (non-unique)\n",
    "    \n",
    "    if remove_headers:\n",
    "        cleaned_list.append(dataset[0])\n",
    "        dataset = dataset[1:]\n",
    "    \n",
    "    for row in dataset:\n",
    "        name = row[index_name]\n",
    "        value = float(row[index_unique])\n",
    "        if name not in already_added and value == clean_dict[name]:\n",
    "            cleaned_list.append(row)\n",
    "            already_added.append(name)\n",
    "            \n",
    "    return cleaned_list"
   ]
  },
  {
   "cell_type": "code",
   "execution_count": 290,
   "id": "1e34e08a-4a03-4e76-b1c6-ec1d70bf68b0",
   "metadata": {},
   "outputs": [
    {
     "name": "stdout",
     "output_type": "stream",
     "text": [
      "9659\n",
      "[['App', 'Category', 'Rating', 'Reviews', 'Size', 'Installs', 'Type', 'Price', 'Content Rating', 'Genres', 'Last Updated', 'Current Ver', 'Android Ver'], ['Photo Editor & Candy Camera & Grid & ScrapBook', 'ART_AND_DESIGN', '4.1', '159', '19M', '10,000+', 'Free', '0', 'Everyone', 'Art & Design', 'January 7, 2018', '1.0.0', '4.0.3 and up'], ['U Launcher Lite – FREE Live Cool Themes, Hide Apps', 'ART_AND_DESIGN', '4.7', '87510', '8.7M', '5,000,000+', 'Free', '0', 'Everyone', 'Art & Design', 'August 1, 2018', '1.2.4', '4.0.3 and up'], ['Sketch - Draw & Paint', 'ART_AND_DESIGN', '4.5', '215644', '25M', '50,000,000+', 'Free', '0', 'Teen', 'Art & Design', 'June 8, 2018', 'Varies with device', '4.2 and up'], ['Pixel Draw - Number Art Coloring Book', 'ART_AND_DESIGN', '4.3', '967', '2.8M', '100,000+', 'Free', '0', 'Everyone', 'Art & Design;Creativity', 'June 20, 2018', '1.1', '4.4 and up']]\n"
     ]
    }
   ],
   "source": [
    "google_play_cleaned = create_clean_dataset(google_play, google_play_unique_dict, 0, 3)\n",
    "print(len(google_play_cleaned[1:]))\n",
    "print(google_play_cleaned[:5])"
   ]
  },
  {
   "cell_type": "code",
   "execution_count": 291,
   "id": "2a16dea5-364a-451e-b818-5ae52567412f",
   "metadata": {},
   "outputs": [
    {
     "name": "stdout",
     "output_type": "stream",
     "text": [
      "7195\n",
      "[['id', 'track_name', 'size_bytes', 'currency', 'price', 'rating_count_tot', 'rating_count_ver', 'user_rating', 'user_rating_ver', 'ver', 'cont_rating', 'prime_genre', 'sup_devices.num', 'ipadSc_urls.num', 'lang.num', 'vpp_lic'], ['284882215', 'Facebook', '389879808', 'USD', '0.0', '2974676', '212', '3.5', '3.5', '95.0', '4+', 'Social Networking', '37', '1', '29', '1'], ['389801252', 'Instagram', '113954816', 'USD', '0.0', '2161558', '1289', '4.5', '4.0', '10.23', '12+', 'Photo & Video', '37', '0', '29', '1'], ['529479190', 'Clash of Clans', '116476928', 'USD', '0.0', '2130805', '579', '4.5', '4.5', '9.24.12', '9+', 'Games', '38', '5', '18', '1'], ['420009108', 'Temple Run', '65921024', 'USD', '0.0', '1724546', '3842', '4.5', '4.0', '1.6.2', '9+', 'Games', '40', '5', '1', '1']]\n"
     ]
    }
   ],
   "source": [
    "app_store_cleaned = create_clean_dataset(app_store, app_store_unique_dict, 1, 5)\n",
    "print(len(app_store_cleaned[1:]))\n",
    "print(app_store_cleaned[:5])"
   ]
  },
  {
   "cell_type": "markdown",
   "id": "4d806bdd-10a2-4b24-ba4a-1f4073d09bb1",
   "metadata": {},
   "source": [
    "The lengths of both of the cleaned datasets match what we expected, so we can validate that the process was a success!"
   ]
  },
  {
   "cell_type": "markdown",
   "id": "c42256df-762f-465e-b882-23372b4dd2f0",
   "metadata": {},
   "source": [
    "***\n",
    "### Removing Other Unwanted Data\n",
    "At our company, recall that we only develop mobile apps that are free to download and install. We also design our apps for an English-speaking audience.\n",
    "\n",
    "So we will need to clean up the current datasets to remove all data points that are non-free and not primarily in English."
   ]
  },
  {
   "cell_type": "markdown",
   "id": "0ecf7d27-6cae-4233-bf20-23cb1937fc1b",
   "metadata": {},
   "source": [
    "**Removing Non-free Apps**\n",
    "\n",
    "For this step, we should just need to loop through each entry in our datasets and keep the entries that have a price of $0.\n",
    "\n",
    "However, the price data points in each dataset exist as strings, or they contain the `$` character, so we will need to be sure to account for this.\n",
    "\n",
    "We can use the `ord()` function, which returns the integer representing the Unicode character, and if we encounter a `$` sign, we will remove it. The ASCII integer for `$` is **36** according to this [ASCII table](https://www.asciitable.com/)"
   ]
  },
  {
   "cell_type": "code",
   "execution_count": 292,
   "id": "82ba4cf1-16e2-4037-8ecf-d2a028aa9174",
   "metadata": {},
   "outputs": [],
   "source": [
    "def string_to_float(string):\n",
    "    cleaned_string = \"\"\n",
    "    for character in string:\n",
    "        if ord(character) != 36:\n",
    "            cleaned_string += character\n",
    "    return float(cleaned_string)"
   ]
  },
  {
   "cell_type": "code",
   "execution_count": 293,
   "id": "e1dcaa61-d0fc-4913-83bd-053331abafcc",
   "metadata": {},
   "outputs": [],
   "source": [
    "def create_dataset_free_only(dataset, index_name, index_price, remove_headers = True):\n",
    "    dataset_free = []\n",
    "    \n",
    "    if remove_headers:\n",
    "        dataset_free.append(dataset[0])\n",
    "        dataset = dataset[1:]\n",
    "        \n",
    "    for row in dataset:\n",
    "        name = row[index_name]\n",
    "        price = string_to_float(row[index_price])\n",
    "        if price == 0:\n",
    "            dataset_free.append(row)\n",
    "    \n",
    "    return dataset_free"
   ]
  },
  {
   "cell_type": "code",
   "execution_count": 294,
   "id": "32cedd01-d1bf-439a-9af7-8784790090dd",
   "metadata": {},
   "outputs": [],
   "source": [
    "google_play_free = create_dataset_free_only(google_play_cleaned, 0, 7)"
   ]
  },
  {
   "cell_type": "raw",
   "id": "6b66bf7a-788a-4749-b0ae-070d15665de9",
   "metadata": {},
   "source": [
    "print(google_play_free)"
   ]
  },
  {
   "cell_type": "code",
   "execution_count": null,
   "id": "85f7cf0f-4420-4d08-b2df-da8ea2d9d00c",
   "metadata": {},
   "outputs": [],
   "source": []
  },
  {
   "cell_type": "code",
   "execution_count": null,
   "id": "60894dda-475b-4e61-8dd9-7599d5b2486c",
   "metadata": {},
   "outputs": [],
   "source": []
  }
 ],
 "metadata": {
  "kernelspec": {
   "display_name": "Python 3 (ipykernel)",
   "language": "python",
   "name": "python3"
  },
  "language_info": {
   "codemirror_mode": {
    "name": "ipython",
    "version": 3
   },
   "file_extension": ".py",
   "mimetype": "text/x-python",
   "name": "python",
   "nbconvert_exporter": "python",
   "pygments_lexer": "ipython3",
   "version": "3.10.9"
  }
 },
 "nbformat": 4,
 "nbformat_minor": 5
}
